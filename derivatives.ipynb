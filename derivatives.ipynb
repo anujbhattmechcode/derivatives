{
 "cells": [
  {
   "cell_type": "code",
   "execution_count": 1,
   "metadata": {},
   "outputs": [],
   "source": [
    "from typing import Protocol, TypeVar, Union, Callable\n",
    "\n",
    "import numpy as np\n",
    "import pandas as pd\n",
    "import matplotlib.pyplot as plt\n",
    "import cv2 as cv\n",
    "\n",
    "import pathlib"
   ]
  },
  {
   "cell_type": "code",
   "execution_count": 2,
   "metadata": {},
   "outputs": [
    {
     "name": "stdout",
     "output_type": "stream",
     "text": [
      "Original Array: \n",
      "[[ 0  1  2  3]\n",
      " [ 4  5  6  7]\n",
      " [ 8  9 10 11]]\n",
      "Function Array: \n",
      "[[  0   1   4   9]\n",
      " [ 16  25  36  49]\n",
      " [ 64  81 100 121]]\n",
      "Derived Array: \n",
      "[[ 0.  2.  4.  6.]\n",
      " [ 8. 10. 12. 14.]\n",
      " [16. 18. 20. 22.]]\n"
     ]
    }
   ],
   "source": [
    "# Simple derivative function\n",
    "ArrayFunction = Callable[[np.ndarray], np.ndarray]\n",
    "\n",
    "def derive(foo: ArrayFunction, X: np.ndarray, delta: float = 10e-4) -> np.ndarray:\n",
    "    return (foo(X + delta) - foo(X - delta)) / (2 * delta)\n",
    "\n",
    "def square(X: np.ndarray) -> np.ndarray:\n",
    "    return np.square(X)\n",
    "\n",
    "X = np.arange(12).reshape(3, 4)\n",
    "print(\"Original Array: \", X, sep=\"\\n\")\n",
    "print(\"Function Array: \", square(X), sep=\"\\n\")\n",
    "print(\"Derived Array: \", derive(square, X), sep=\"\\n\")"
   ]
  },
  {
   "cell_type": "code",
   "execution_count": 3,
   "metadata": {},
   "outputs": [
    {
     "name": "stdout",
     "output_type": "stream",
     "text": [
      "Original Array: \n",
      "[[ 0  1  2  3]\n",
      " [ 4  5  6  7]\n",
      " [ 8  9 10 11]]\n",
      "Derived Array: \n",
      "[[     0      6    192   1458]\n",
      " [  6144  18750  46656 100842]\n",
      " [196608 354294 600000 966306]]\n"
     ]
    }
   ],
   "source": [
    "# Two Chained function derivative\n",
    "from typing import List\n",
    "\n",
    "ArrayFunction = Callable[[np.ndarray], np.ndarray]\n",
    "Chain = List[ArrayFunction]\n",
    "\n",
    "def derive(foo: ArrayFunction, X: np.ndarray, delta: float = 10e-4) -> np.ndarray:\n",
    "    return (foo(X + delta) - foo(X - delta)) / (2 * delta)\n",
    "\n",
    "def chain_derive_2(chain: Chain,\n",
    "                   X: np.ndarray) -> np.ndarray:\n",
    "    if len(chain) != 2:\n",
    "        raise ValueError(\"Chain length should be two\")\n",
    "    \n",
    "    f1 = chain[0]\n",
    "    f2 = chain[1]\n",
    "\n",
    "    f1x = f1(X)\n",
    "    df1x_dx = derive(f1, X)\n",
    "    df2x_dx = derive(f2, f1x)\n",
    "\n",
    "    return df2x_dx * df1x_dx\n",
    "\n",
    "\n",
    "def square(X: np.ndarray) -> np.ndarray:\n",
    "    return np.square(X)\n",
    "\n",
    "def cube(X: np.ndarray) -> np.ndarray:\n",
    "    return X ** 3\n",
    "\n",
    "chain = [square, cube]\n",
    "\n",
    "X = np.arange(12).reshape(3, 4)\n",
    "print(\"Original Array: \", X, sep=\"\\n\")\n",
    "print(\"Derived Array: \", chain_derive_2(chain, X).astype(int), sep=\"\\n\")"
   ]
  },
  {
   "cell_type": "code",
   "execution_count": 4,
   "metadata": {},
   "outputs": [
    {
     "name": "stdout",
     "output_type": "stream",
     "text": [
      "Original Array: \n",
      "[[ 1  2  3  4]\n",
      " [ 5  6  7  8]\n",
      " [ 9 10 11 12]]\n",
      "Derived Array: \n",
      "[[6.000004   3.00000006 2.00000001 1.5       ]\n",
      " [1.2        1.00000002 0.85714283 0.75000012]\n",
      " [0.66666688 0.60000005 0.54545442 0.4999992 ]]\n"
     ]
    }
   ],
   "source": [
    "# Chain derivation of three function\n",
    "ArrayFunction = Callable[[np.ndarray], np.ndarray]\n",
    "Chain = List[ArrayFunction]\n",
    "\n",
    "def square(X: np.ndarray) -> np.ndarray:\n",
    "    return np.square(X)\n",
    "\n",
    "def cube(X: np.ndarray) -> np.ndarray:\n",
    "    return X ** 3\n",
    "\n",
    "def log(X: np.ndarray) -> np.ndarray:\n",
    "    return np.log(X)\n",
    "\n",
    "def derive(foo: ArrayFunction, X: np.ndarray, delta: float = 10e-4) -> np.ndarray:\n",
    "    return (foo(X + delta) - foo(X - delta)) / (2 * delta)\n",
    "\n",
    "def chain_derive_3(chain: Chain, X: np.ndarray) -> np.ndarray:\n",
    "    if len(chain) != 3:\n",
    "        raise ValueError(\"Length of chain is not equal to 3\")\n",
    "    \n",
    "    f1 = chain[0]\n",
    "    f2 = chain[1]\n",
    "    f3 = chain[2]\n",
    "\n",
    "    f1x = f1(X)\n",
    "    f2f1x = f2(f1x)\n",
    "    df1x_dx = derive(f1, X)\n",
    "    df2f1_dx = derive(f2, f1x)\n",
    "    df3x_dx = derive(f3, f2f1x)\n",
    "\n",
    "    return df3x_dx * df2f1_dx * df1x_dx\n",
    "\n",
    "chain = [square, cube, log]\n",
    "\n",
    "X = np.arange(1, 13).reshape(3, 4)\n",
    "print(\"Original Array: \", X, sep=\"\\n\")\n",
    "print(\"Derived Array: \", chain_derive_3(chain, X), sep=\"\\n\")"
   ]
  },
  {
   "cell_type": "code",
   "execution_count": 5,
   "metadata": {},
   "outputs": [
    {
     "name": "stdout",
     "output_type": "stream",
     "text": [
      "Original Arrays: \n",
      "[[ 1  2  3  4]\n",
      " [ 5  6  7  8]\n",
      " [ 9 10 11 12]]\n",
      "[[13 14 15 16]\n",
      " [17 18 19 20]\n",
      " [21 22 23 24]]\n",
      "Derived Array 1: \n",
      "[[28. 32. 36. 40.]\n",
      " [44. 48. 52. 56.]\n",
      " [60. 64. 68. 72.]]\n",
      "Derived Array 2: \n",
      "[[28. 32. 36. 40.]\n",
      " [44. 48. 52. 56.]\n",
      " [60. 64. 68. 72.]]\n"
     ]
    }
   ],
   "source": [
    "# Derive functions with multiple parameters\n",
    "ArrayFunction = Callable[[np.ndarray], np.ndarray]\n",
    "Chain = List[ArrayFunction]\n",
    "\n",
    "def square(X: np.ndarray) -> np.ndarray:\n",
    "    return np.square(X)\n",
    "\n",
    "def multiple_inputs_with_backward_derive(X: np.ndarray, \n",
    "                                         Y: np.ndarray, \n",
    "                                         sigma: ArrayFunction) -> np.ndarray:\n",
    "    a = X + Y\n",
    "    sigmaa_da = derive(sigma, a)\n",
    "    daxy_dx = 1\n",
    "    daxy_dy = 1\n",
    "    \n",
    "    return sigmaa_da * daxy_dx, sigmaa_da * daxy_dy\n",
    "\n",
    "X = np.arange(1, 13).reshape(3, 4)\n",
    "Y = np.arange(13, 25).reshape(3, 4)\n",
    "print(\"Original Arrays: \", X, Y, sep=\"\\n\")\n",
    "derived_arrays = multiple_inputs_with_backward_derive(X, Y, square)\n",
    "print(\"Derived Array 1: \", derived_arrays[0], sep=\"\\n\")\n",
    "print(\"Derived Array 2: \", derived_arrays[1], sep=\"\\n\")"
   ]
  },
  {
   "cell_type": "code",
   "execution_count": 6,
   "metadata": {},
   "outputs": [
    {
     "name": "stdout",
     "output_type": "stream",
     "text": [
      "Original Arrays: \n",
      "[[1 2 3 4]]\n",
      "[[6]\n",
      " [7]\n",
      " [8]\n",
      " [9]]\n",
      "Derived Array 1: \n",
      "[[ 960.         1120.00000001 1280.00000001 1440.00000001]]\n",
      "Derived Array 2: \n",
      "[[160.]\n",
      " [320.]\n",
      " [480.]\n",
      " [640.]]\n"
     ]
    }
   ],
   "source": [
    "# Derivatives of vector function\n",
    "\n",
    "ArrayFunction = Callable[[np.ndarray], np.ndarray]\n",
    "\n",
    "def derive(foo: ArrayFunction, X: np.ndarray, delta: float = 10e-4) -> np.ndarray:\n",
    "    return (foo(X + delta) - foo(X - delta)) / (2 * delta)\n",
    "\n",
    "def vector_derive(X: np.ndarray, W: np.ndarray, sigma: ArrayFunction) -> np.ndarray:\n",
    "    if X.shape[1] != W.shape[0]:\n",
    "        raise ValueError(\"Shape mismatching for vector product\")\n",
    "\n",
    "    N = X @ W\n",
    "\n",
    "    dN_dX = W.T; dN_dW = X.T\n",
    "\n",
    "    dsigma_dN = derive(sigma, N)\n",
    "\n",
    "    return dsigma_dN @ dN_dX, dN_dW @ dsigma_dN \n",
    "\n",
    "X = np.arange(1, 5).reshape(1, 4)\n",
    "W = np.arange(6, 10).reshape(4, 1)\n",
    "print(\"Original Arrays: \", X, W, sep=\"\\n\")\n",
    "derived_arrays = vector_derive(X, W, square)\n",
    "print(\"Derived Array 1: \", derived_arrays[0], sep=\"\\n\")\n",
    "print(\"Derived Array 2: \", derived_arrays[1], sep=\"\\n\")"
   ]
  },
  {
   "cell_type": "code",
   "execution_count": null,
   "metadata": {},
   "outputs": [],
   "source": []
  }
 ],
 "metadata": {
  "kernelspec": {
   "display_name": "kepler",
   "language": "python",
   "name": "python3"
  },
  "language_info": {
   "codemirror_mode": {
    "name": "ipython",
    "version": 3
   },
   "file_extension": ".py",
   "mimetype": "text/x-python",
   "name": "python",
   "nbconvert_exporter": "python",
   "pygments_lexer": "ipython3",
   "version": "3.11.6"
  }
 },
 "nbformat": 4,
 "nbformat_minor": 2
}
